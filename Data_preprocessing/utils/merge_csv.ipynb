{
  "cells": [
    {
      "cell_type": "markdown",
      "metadata": {
        "id": "cObTWnfkEFzX"
      },
      "source": [
        "This notebook reads .csv files, merges them, and saves the result.  \n",
        "The merged .csv file will be saved in 'merged_dataset'."
      ]
    },
    {
      "cell_type": "code",
      "execution_count": 1,
      "metadata": {
        "id": "APwkS3BrEFzZ"
      },
      "outputs": [],
      "source": [
        "import os\n",
        "import glob\n",
        "\n",
        "import shutil\n",
        "import zipfile\n",
        "\n",
        "import pandas as pd\n",
        "from tqdm import tqdm"
      ]
    },
    {
      "cell_type": "code",
      "source": [
        "from google.colab import drive\n",
        "drive.mount('/content/drive')"
      ],
      "metadata": {
        "colab": {
          "base_uri": "https://localhost:8080/"
        },
        "id": "tv3dTa2rEWN_",
        "outputId": "0353bd31-c534-414b-cf25-474568efb97a"
      },
      "execution_count": 2,
      "outputs": [
        {
          "output_type": "stream",
          "name": "stdout",
          "text": [
            "Mounted at /content/drive\n"
          ]
        }
      ]
    },
    {
      "cell_type": "markdown",
      "source": [
        "### copy & unzip Dataset"
      ],
      "metadata": {
        "id": "7mr3rXe1EUV4"
      }
    },
    {
      "cell_type": "code",
      "source": [
        "# 소스 파일 경로\n",
        "source_file_path = '/content/drive/MyDrive/archive.zip'\n",
        "\n",
        "# 대상 파일 경로\n",
        "target_file_path = '/content/archive.zip'\n",
        "\n",
        "# 파일 복사\n",
        "shutil.copyfile(source_file_path, target_file_path)"
      ],
      "metadata": {
        "colab": {
          "base_uri": "https://localhost:8080/",
          "height": 35
        },
        "id": "WzZtP05bEVab",
        "outputId": "3d609375-26a1-48c2-db25-8be6800ac1c3"
      },
      "execution_count": 3,
      "outputs": [
        {
          "output_type": "execute_result",
          "data": {
            "text/plain": [
              "'/content/archive.zip'"
            ],
            "application/vnd.google.colaboratory.intrinsic+json": {
              "type": "string"
            }
          },
          "metadata": {},
          "execution_count": 3
        }
      ]
    },
    {
      "cell_type": "code",
      "source": [
        "# 언집할 폴더 경로\n",
        "target_folder_path = '/content'\n",
        "\n",
        "# ZIP 파일 언집\n",
        "with zipfile.ZipFile(target_file_path, 'r') as zip_ref:\n",
        "    zip_ref.extractall(target_folder_path)"
      ],
      "metadata": {
        "id": "5lsr85PMEcmG"
      },
      "execution_count": 4,
      "outputs": []
    },
    {
      "cell_type": "markdown",
      "source": [
        "### merge & save csv"
      ],
      "metadata": {
        "id": "AcDRz8E5Fhin"
      }
    },
    {
      "cell_type": "code",
      "execution_count": 5,
      "metadata": {
        "id": "dto8XYqMEFzZ"
      },
      "outputs": [],
      "source": [
        "def resd_csv(dir_path):\n",
        "    colname = ['Hour' , 'Minute' , 'Second', 'microsecond', 'Horiz', 'Vert']\n",
        "\n",
        "    # 디렉토리 내의 모든 CSV 파일 경로를 가져오기\n",
        "    file_paths = glob.glob(dir_path + '/*.csv')\n",
        "\n",
        "    # 파일 경로를 순서대로 정렬\n",
        "    file_paths = sorted(file_paths)\n",
        "\n",
        "    # 파일들을 담을 빈 DataFrame 생성\n",
        "    combined_data = pd.DataFrame()\n",
        "\n",
        "    # acc 파일만 불러오기 (파일명에 'acc'가 포함된 파일들)\n",
        "    acc_file_paths = [file_path for file_path in file_paths if 'acc' in file_path]\n",
        "\n",
        "    # 각 파일을 순회하며 데이터를 불러온 뒤 빈 DataFrame에 추가\n",
        "    for file_path in acc_file_paths:\n",
        "        if dir_path == '/content/ieee-phm-2012-data-challenge-dataset-master/Full_Test_Set/Bearing1_4':\n",
        "            # Split the values in the single column into separate columns using the 'str.split()' function\n",
        "            # Bearing1_4의 경우 한열에 모든 열이 들어 있다 ';'으로 구분됨\n",
        "            df = pd.read_csv(file_path, sep=';', names=colname, header=None)\n",
        "        else:\n",
        "            df = pd.read_csv(file_path, names=colname, header=None)  # 첫 번째 행을 인덱스로 사용하지 않음\n",
        "        combined_data = pd.concat([combined_data, df], ignore_index=True, axis=0)\n",
        "    return combined_data"
      ]
    },
    {
      "cell_type": "code",
      "source": [
        "def convert_timestamp(df):\n",
        "    # Convert timestamp columns to integers and create a new DataFrame with these values\n",
        "    timestamp_integers = df[['Hour' , 'Minute' , 'Second', 'microsecond']].astype(int)\n",
        "    timestamp_integers.columns = ['hour', 'minute', 'second', 'microsecond']\n",
        "\n",
        "    # Combine the integer values to form a string in the format 'HH:MM:SS.microseconds'\n",
        "    df['timestamp'] = timestamp_integers.apply(lambda x: f\"{x['hour']:02d}:{x['minute']:02d}:{x['second']:02d}.{x['microsecond']:06d}\", axis=1)\n",
        "\n",
        "    # Convert the 'timestamp' column to a Pandas datetime object\n",
        "    df['timestamp'] = pd.to_datetime(df['timestamp'], format='%H:%M:%S.%f')\n",
        "\n",
        "    # Remove the date part from the 'timestamp' column\n",
        "    df['timestamp'] = df['timestamp'].dt.time\n",
        "\n",
        "    df = df.drop(['Hour' , 'Minute' , 'Second', 'microsecond'], axis=1)\n",
        "    df = df.reindex(columns=['timestamp', 'Horiz', 'Vert'])\n",
        "\n",
        "    return df"
      ],
      "metadata": {
        "id": "D5Mpa6WaFRVG"
      },
      "execution_count": 6,
      "outputs": []
    },
    {
      "cell_type": "code",
      "source": [
        "def get_second_level_folders(directory):\n",
        "    second_level_folders = []\n",
        "    for root, dirs, files in os.walk(directory):\n",
        "        if root != directory:  # Exclude the top-level directory\n",
        "            for folder_name in dirs:\n",
        "                second_level_folders.append(os.path.join(root, folder_name))\n",
        "    return second_level_folders"
      ],
      "metadata": {
        "id": "pN0XBiFqKZLh"
      },
      "execution_count": 7,
      "outputs": []
    },
    {
      "cell_type": "code",
      "source": [
        "def save_csv(path):\n",
        "    df = resd_csv(path)\n",
        "    df = convert_timestamp(df)\n",
        "    if not os.path.exists('/content/drive/MyDrive/merged_dataset'):\n",
        "        os.makedirs('/content/drive/MyDrive/merged_dataset')\n",
        "    file_name = '_'.join([path.split('/')[3], path.split('/')[4]])\n",
        "    df.to_csv(f'/content/drive/MyDrive/merged_dataset/{file_name}.csv', index=False)"
      ],
      "metadata": {
        "id": "EoXlwNJSFvGy"
      },
      "execution_count": 8,
      "outputs": []
    },
    {
      "cell_type": "code",
      "source": [
        "directory_path = '/content/ieee-phm-2012-data-challenge-dataset-master'\n",
        "second_level_folders = get_second_level_folders(directory_path)"
      ],
      "metadata": {
        "id": "50Hy4jpMI-uN"
      },
      "execution_count": 9,
      "outputs": []
    },
    {
      "cell_type": "code",
      "source": [
        "for bearing in tqdm(second_level_folders):\n",
        "    save_csv(bearing)"
      ],
      "metadata": {
        "colab": {
          "base_uri": "https://localhost:8080/"
        },
        "id": "X_07YmEdLzEy",
        "outputId": "83237a71-c20b-4232-e838-ab0991db019c"
      },
      "execution_count": 10,
      "outputs": [
        {
          "output_type": "stream",
          "name": "stderr",
          "text": [
            "100%|██████████| 28/28 [1:30:56<00:00, 194.89s/it]\n"
          ]
        }
      ]
    },
    {
      "cell_type": "code",
      "source": [],
      "metadata": {
        "id": "kDRuJwV3RC3P"
      },
      "execution_count": null,
      "outputs": []
    }
  ],
  "metadata": {
    "language_info": {
      "name": "python"
    },
    "orig_nbformat": 4,
    "colab": {
      "provenance": []
    },
    "kernelspec": {
      "name": "python3",
      "display_name": "Python 3"
    }
  },
  "nbformat": 4,
  "nbformat_minor": 0
}