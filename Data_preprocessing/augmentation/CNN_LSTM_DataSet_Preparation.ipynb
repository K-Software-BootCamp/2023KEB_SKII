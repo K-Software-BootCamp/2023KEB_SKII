{
  "cells": [
    {
      "cell_type": "code",
      "execution_count": 1,
      "metadata": {
        "id": "LDO3NtpMc2LP"
      },
      "outputs": [],
      "source": [
        "import os\n",
        "import numpy as np\n",
        "import pywt\n",
        "import pandas as pd\n",
        "import pickle as pkl\n",
        "from matplotlib import pyplot as plt"
      ]
    },
    {
      "cell_type": "code",
      "execution_count": 2,
      "metadata": {
        "id": "5aQSJCKOc3Mb"
      },
      "outputs": [],
      "source": [
        "# 필요 변수\n",
        "DATA_POINTS_PER_FILE = 2560\n",
        "TIME_PER_REC = 0.1\n",
        "SAMPLING_FREQ = 25600 # 25.6 KHz\n",
        "SAMPLING_PERIOD = 1.0/SAMPLING_FREQ\n",
        "\n",
        "WIN_SIZE = 20\n",
        "WAVELET_TYPE = 'morl'\n",
        "\n",
        "VAL_SPLIT = 0.1\n",
        "\n",
        "SEQ_LEN = 5 # sequence length"
      ]
    },
    {
      "cell_type": "code",
      "execution_count": 3,
      "metadata": {
        "id": "IUW-Zlhdc6me"
      },
      "outputs": [],
      "source": [
        "def load_df(pkz_file):  #load data frame from pickle file\n",
        "    with open(pkz_file, 'rb') as f:\n",
        "        df=pkl.load(f)\n",
        "    return df"
      ]
    },
    {
      "cell_type": "code",
      "execution_count": 4,
      "metadata": {
        "id": "DgaH0u-1Zdgo"
      },
      "outputs": [],
      "source": [
        "def df_row_ind_to_data_range(ind):\n",
        "    return (DATA_POINTS_PER_FILE*ind, DATA_POINTS_PER_FILE*(ind+1))"
      ]
    },
    {
      "cell_type": "code",
      "execution_count": 5,
      "metadata": {
        "id": "KOem7_GVZfFl"
      },
      "outputs": [],
      "source": [
        "def extract_feature_image(ind, feature_name='horiz accel'):\n",
        "    data_range = df_row_ind_to_data_range(ind)\n",
        "    data = df[feature_name].values[data_range[0]:data_range[1]]\n",
        "\n",
        "    data = np.array([np.mean(data[i:i+WIN_SIZE]) for i in range(0, DATA_POINTS_PER_FILE, WIN_SIZE)])\n",
        "\n",
        "    coef, _ = pywt.cwt(data, np.linspace(1,128,128), WAVELET_TYPE)\n",
        "\n",
        "    coef = np.log2(coef**2+0.001)\n",
        "\n",
        "    coef = (coef - coef.min())/(coef.max() - coef.min())\n",
        "    return coef"
      ]
    },
    {
      "cell_type": "code",
      "execution_count": 12,
      "metadata": {
        "id": "ZA7I1hWwdDj0"
      },
      "outputs": [],
      "source": [
        "main_dir = 'D:/data/'"
      ]
    },
    {
      "cell_type": "code",
      "execution_count": 19,
      "metadata": {
        "colab": {
          "base_uri": "https://localhost:8080/",
          "height": 206
        },
        "id": "-FrL0pp3du09",
        "outputId": "1e53e321-1f92-4a50-b8e2-29c14ecebd0b"
      },
      "outputs": [
        {
          "data": {
            "text/html": [
              "<div>\n",
              "<style scoped>\n",
              "    .dataframe tbody tr th:only-of-type {\n",
              "        vertical-align: middle;\n",
              "    }\n",
              "\n",
              "    .dataframe tbody tr th {\n",
              "        vertical-align: top;\n",
              "    }\n",
              "\n",
              "    .dataframe thead th {\n",
              "        text-align: right;\n",
              "    }\n",
              "</style>\n",
              "<table border=\"1\" class=\"dataframe\">\n",
              "  <thead>\n",
              "    <tr style=\"text-align: right;\">\n",
              "      <th></th>\n",
              "      <th>hour</th>\n",
              "      <th>minute</th>\n",
              "      <th>second</th>\n",
              "      <th>microsecond</th>\n",
              "      <th>horiz accel</th>\n",
              "      <th>vert accel</th>\n",
              "    </tr>\n",
              "  </thead>\n",
              "  <tbody>\n",
              "    <tr>\n",
              "      <th>0</th>\n",
              "      <td>8</td>\n",
              "      <td>47</td>\n",
              "      <td>5</td>\n",
              "      <td>196910.0</td>\n",
              "      <td>0.690192</td>\n",
              "      <td>-0.158381</td>\n",
              "    </tr>\n",
              "    <tr>\n",
              "      <th>1</th>\n",
              "      <td>8</td>\n",
              "      <td>47</td>\n",
              "      <td>5</td>\n",
              "      <td>196950.0</td>\n",
              "      <td>0.091153</td>\n",
              "      <td>-0.104491</td>\n",
              "    </tr>\n",
              "    <tr>\n",
              "      <th>2</th>\n",
              "      <td>8</td>\n",
              "      <td>47</td>\n",
              "      <td>5</td>\n",
              "      <td>196990.0</td>\n",
              "      <td>-0.123156</td>\n",
              "      <td>0.802257</td>\n",
              "    </tr>\n",
              "    <tr>\n",
              "      <th>3</th>\n",
              "      <td>8</td>\n",
              "      <td>47</td>\n",
              "      <td>5</td>\n",
              "      <td>197030.0</td>\n",
              "      <td>0.211616</td>\n",
              "      <td>-0.688070</td>\n",
              "    </tr>\n",
              "    <tr>\n",
              "      <th>4</th>\n",
              "      <td>8</td>\n",
              "      <td>47</td>\n",
              "      <td>5</td>\n",
              "      <td>197070.0</td>\n",
              "      <td>-0.005533</td>\n",
              "      <td>-0.410238</td>\n",
              "    </tr>\n",
              "  </tbody>\n",
              "</table>\n",
              "</div>"
            ],
            "text/plain": [
              "   hour  minute  second  microsecond  horiz accel  vert accel\n",
              "0     8      47       5     196910.0     0.690192   -0.158381\n",
              "1     8      47       5     196950.0     0.091153   -0.104491\n",
              "2     8      47       5     196990.0    -0.123156    0.802257\n",
              "3     8      47       5     197030.0     0.211616   -0.688070\n",
              "4     8      47       5     197070.0    -0.005533   -0.410238"
            ]
          },
          "execution_count": 19,
          "metadata": {},
          "output_type": "execute_result"
        }
      ],
      "source": [
        "pkz_file = main_dir + 'noisy_04_bearing1_2.pkz'\n",
        "df = load_df(pkz_file)\n",
        "df.head()"
      ]
    },
    {
      "cell_type": "code",
      "execution_count": 20,
      "metadata": {
        "colab": {
          "base_uri": "https://localhost:8080/"
        },
        "id": "joOSdZ57ZUaS",
        "outputId": "9af2d3f1-bb91-4253-91cf-f21c94c25a5f"
      },
      "outputs": [
        {
          "name": "stdout",
          "output_type": "stream",
          "text": [
            "2229760 871\n"
          ]
        }
      ],
      "source": [
        "no_of_rows = df.shape[0]\n",
        "no_of_files = int(no_of_rows / DATA_POINTS_PER_FILE)\n",
        "print(no_of_rows, no_of_files)"
      ]
    },
    {
      "cell_type": "code",
      "execution_count": 21,
      "metadata": {
        "colab": {
          "base_uri": "https://localhost:8080/",
          "height": 408
        },
        "id": "rt6JiJvAZWqP",
        "outputId": "e7d418bf-55eb-4a9c-df2d-613476bb65df"
      },
      "outputs": [
        {
          "name": "stdout",
          "output_type": "stream",
          "text": [
            "871 (871, 2, 128, 128) (871,)\n"
          ]
        }
      ],
      "source": [
        "data = {'x': [], 'y': []}\n",
        "for i in range(0, no_of_files):\n",
        "    coef_h = extract_feature_image(i, feature_name='horiz accel')\n",
        "    coef_v = extract_feature_image(i, feature_name='vert accel')\n",
        "    x_ = np.array([coef_h, coef_v])\n",
        "    y_ = i/(no_of_files-1)\n",
        "    data['x'].append(x_)\n",
        "    data['y'].append(y_)\n",
        "data['x']=np.array(data['x'])\n",
        "data['y']=np.array(data['y'])\n",
        "\n",
        "assert data['x'].shape==(no_of_files, 2, 128, 128)\n",
        "print(no_of_files, data['x'].shape, data['y'].shape)"
      ]
    },
    {
      "cell_type": "code",
      "execution_count": 22,
      "metadata": {
        "id": "N0LxXiEsZZjn"
      },
      "outputs": [],
      "source": [
        "out_file = main_dir+'noisy_04_all_bearing1_2.pkz'\n",
        "with open(out_file, 'wb') as f:\n",
        "    pkl.dump(data, f)"
      ]
    }
  ],
  "metadata": {
    "colab": {
      "provenance": []
    },
    "kernelspec": {
      "display_name": "Python 3",
      "name": "python3"
    },
    "language_info": {
      "codemirror_mode": {
        "name": "ipython",
        "version": 3
      },
      "file_extension": ".py",
      "mimetype": "text/x-python",
      "name": "python",
      "nbconvert_exporter": "python",
      "pygments_lexer": "ipython3",
      "version": "3.8.17"
    }
  },
  "nbformat": 4,
  "nbformat_minor": 0
}
